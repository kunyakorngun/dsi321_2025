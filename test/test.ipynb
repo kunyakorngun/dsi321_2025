{
 "cells": [
  {
   "cell_type": "code",
   "execution_count": 1,
   "id": "d158403e",
   "metadata": {},
   "outputs": [],
   "source": [
    "import pandas as pd \n",
    "\n"
   ]
  },
  {
   "cell_type": "code",
   "execution_count": 5,
   "id": "2453aac4",
   "metadata": {},
   "outputs": [
    {
     "data": {
      "text/plain": [
       "'c:\\\\Users\\\\kunyakorn\\\\Desktop\\\\dsi321_2025\\\\test'"
      ]
     },
     "execution_count": 5,
     "metadata": {},
     "output_type": "execute_result"
    }
   ],
   "source": [
    "pwd"
   ]
  },
  {
   "cell_type": "code",
   "execution_count": 15,
   "id": "986161c2",
   "metadata": {},
   "outputs": [
    {
     "data": {
      "text/plain": [
       "cleaned_title         string[python]\n",
       "keyword               string[python]\n",
       "timestamp        datetime64[ns, UTC]\n",
       "dtype: object"
      ]
     },
     "execution_count": 15,
     "metadata": {},
     "output_type": "execute_result"
    }
   ],
   "source": [
    "\n",
    "df = pd.read_parquet(\"../data/data.parquet\")\n",
    "df['cleaned_title'] = df['cleaned_title'].astype('string')\n",
    "df['keyword'] = df['keyword'].astype('string')\n",
    "df['timestamp'] = pd.to_datetime(df['timestamp'], format='mixed')\n",
    "df['timestamp'] = df['timestamp'].dt.tz_convert('UTC')\n",
    "df.to_parquet('../data/data.parquet', engine='pyarrow')\n",
    "df.dtypes"
   ]
  },
  {
   "cell_type": "code",
   "execution_count": 18,
   "id": "3a939520",
   "metadata": {},
   "outputs": [
    {
     "name": "stdout",
     "output_type": "stream",
     "text": [
      "<class 'pandas.core.frame.DataFrame'>\n",
      "RangeIndex: 1000 entries, 0 to 999\n",
      "Data columns (total 3 columns):\n",
      " #   Column         Non-Null Count  Dtype              \n",
      "---  ------         --------------  -----              \n",
      " 0   cleaned_title  1000 non-null   string             \n",
      " 1   keyword        1000 non-null   string             \n",
      " 2   timestamp      1000 non-null   datetime64[ns, UTC]\n",
      "dtypes: datetime64[ns, UTC](1), string(2)\n",
      "memory usage: 23.6 KB\n"
     ]
    },
    {
     "data": {
      "text/html": [
       "<div>\n",
       "<style scoped>\n",
       "    .dataframe tbody tr th:only-of-type {\n",
       "        vertical-align: middle;\n",
       "    }\n",
       "\n",
       "    .dataframe tbody tr th {\n",
       "        vertical-align: top;\n",
       "    }\n",
       "\n",
       "    .dataframe thead th {\n",
       "        text-align: right;\n",
       "    }\n",
       "</style>\n",
       "<table border=\"1\" class=\"dataframe\">\n",
       "  <thead>\n",
       "    <tr style=\"text-align: right;\">\n",
       "      <th></th>\n",
       "      <th>cleaned_title</th>\n",
       "      <th>keyword</th>\n",
       "      <th>timestamp</th>\n",
       "    </tr>\n",
       "  </thead>\n",
       "  <tbody>\n",
       "    <tr>\n",
       "      <th>0</th>\n",
       "      <td>griffon industrial conglomerate stock greater ...</td>\n",
       "      <td>construction materials</td>\n",
       "      <td>2025-05-14 14:24:00+00:00</td>\n",
       "    </tr>\n",
       "    <tr>\n",
       "      <th>1</th>\n",
       "      <td>construmat showcases transformation towards su...</td>\n",
       "      <td>construction materials</td>\n",
       "      <td>2025-05-14 08:00:00+00:00</td>\n",
       "    </tr>\n",
       "    <tr>\n",
       "      <th>2</th>\n",
       "      <td>tantimber announce partnership deliver sustain...</td>\n",
       "      <td>construction materials</td>\n",
       "      <td>2025-05-14 11:15:00+00:00</td>\n",
       "    </tr>\n",
       "    <tr>\n",
       "      <th>3</th>\n",
       "      <td>debris turns gold axios</td>\n",
       "      <td>construction materials</td>\n",
       "      <td>2025-05-12 11:20:50+00:00</td>\n",
       "    </tr>\n",
       "    <tr>\n",
       "      <th>4</th>\n",
       "      <td>resilience makes case california rebuilds wild...</td>\n",
       "      <td>construction materials</td>\n",
       "      <td>2025-05-12 22:25:00+00:00</td>\n",
       "    </tr>\n",
       "    <tr>\n",
       "      <th>...</th>\n",
       "      <td>...</td>\n",
       "      <td>...</td>\n",
       "      <td>...</td>\n",
       "    </tr>\n",
       "    <tr>\n",
       "      <th>995</th>\n",
       "      <td>doman price target lowered canaccord genuity d...</td>\n",
       "      <td>building materials</td>\n",
       "      <td>2025-05-13 06:32:36+00:00</td>\n",
       "    </tr>\n",
       "    <tr>\n",
       "      <th>996</th>\n",
       "      <td>stifel nicolaus issues positive doman stock pr...</td>\n",
       "      <td>building materials</td>\n",
       "      <td>2025-05-13 06:33:58+00:00</td>\n",
       "    </tr>\n",
       "    <tr>\n",
       "      <th>997</th>\n",
       "      <td>td securities issues positive doman stock pric...</td>\n",
       "      <td>building materials</td>\n",
       "      <td>2025-05-13 06:33:57+00:00</td>\n",
       "    </tr>\n",
       "    <tr>\n",
       "      <th>998</th>\n",
       "      <td>approved ahead hurricane season local alerts</td>\n",
       "      <td>building materials</td>\n",
       "      <td>2025-05-13 05:54:21+00:00</td>\n",
       "    </tr>\n",
       "    <tr>\n",
       "      <th>999</th>\n",
       "      <td>doman price target raised td securities reporter</td>\n",
       "      <td>building materials</td>\n",
       "      <td>2025-05-13 06:31:22+00:00</td>\n",
       "    </tr>\n",
       "  </tbody>\n",
       "</table>\n",
       "<p>1000 rows × 3 columns</p>\n",
       "</div>"
      ],
      "text/plain": [
       "                                         cleaned_title  \\\n",
       "0    griffon industrial conglomerate stock greater ...   \n",
       "1    construmat showcases transformation towards su...   \n",
       "2    tantimber announce partnership deliver sustain...   \n",
       "3                              debris turns gold axios   \n",
       "4    resilience makes case california rebuilds wild...   \n",
       "..                                                 ...   \n",
       "995  doman price target lowered canaccord genuity d...   \n",
       "996  stifel nicolaus issues positive doman stock pr...   \n",
       "997  td securities issues positive doman stock pric...   \n",
       "998       approved ahead hurricane season local alerts   \n",
       "999   doman price target raised td securities reporter   \n",
       "\n",
       "                    keyword                 timestamp  \n",
       "0    construction materials 2025-05-14 14:24:00+00:00  \n",
       "1    construction materials 2025-05-14 08:00:00+00:00  \n",
       "2    construction materials 2025-05-14 11:15:00+00:00  \n",
       "3    construction materials 2025-05-12 11:20:50+00:00  \n",
       "4    construction materials 2025-05-12 22:25:00+00:00  \n",
       "..                      ...                       ...  \n",
       "995      building materials 2025-05-13 06:32:36+00:00  \n",
       "996      building materials 2025-05-13 06:33:58+00:00  \n",
       "997      building materials 2025-05-13 06:33:57+00:00  \n",
       "998      building materials 2025-05-13 05:54:21+00:00  \n",
       "999      building materials 2025-05-13 06:31:22+00:00  \n",
       "\n",
       "[1000 rows x 3 columns]"
      ]
     },
     "execution_count": 18,
     "metadata": {},
     "output_type": "execute_result"
    }
   ],
   "source": [
    "df.info()\n",
    "df"
   ]
  },
  {
   "cell_type": "code",
   "execution_count": null,
   "id": "d3e2651d",
   "metadata": {},
   "outputs": [],
   "source": []
  }
 ],
 "metadata": {
  "kernelspec": {
   "display_name": ".venv",
   "language": "python",
   "name": "python3"
  },
  "language_info": {
   "codemirror_mode": {
    "name": "ipython",
    "version": 3
   },
   "file_extension": ".py",
   "mimetype": "text/x-python",
   "name": "python",
   "nbconvert_exporter": "python",
   "pygments_lexer": "ipython3",
   "version": "3.13.1"
  }
 },
 "nbformat": 4,
 "nbformat_minor": 5
}
